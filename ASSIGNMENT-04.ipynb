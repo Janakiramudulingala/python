{
 "cells": [
  {
   "cell_type": "code",
   "execution_count": 1,
   "id": "c509f6e6",
   "metadata": {},
   "outputs": [],
   "source": [
    "#Write a Python program to loop through all the elements in a list."
   ]
  },
  {
   "cell_type": "code",
   "execution_count": 2,
   "id": "fbc8109f",
   "metadata": {},
   "outputs": [
    {
     "name": "stdout",
     "output_type": "stream",
     "text": [
      "1\n",
      "2\n",
      "3\n",
      "4\n",
      "5\n",
      "6\n"
     ]
    }
   ],
   "source": [
    "list = [1,2,3,4,5,6]\n",
    "for x in list:\n",
    "    print(x)"
   ]
  },
  {
   "cell_type": "code",
   "execution_count": 3,
   "id": "3415d18e",
   "metadata": {},
   "outputs": [],
   "source": [
    "#Write a Python program where you will ask the users to insert elements in a list"
   ]
  },
  {
   "cell_type": "code",
   "execution_count": 4,
   "id": "3b37c27a",
   "metadata": {},
   "outputs": [
    {
     "name": "stdout",
     "output_type": "stream",
     "text": [
      "enter the range 7\n",
      "enter the number  7\n",
      "enter the number  7\n",
      "enter the number  9\n",
      "enter the number  9\n",
      "enter the number  8\n",
      "enter the number  9\n",
      "enter the number  0\n",
      "[7, 7, 9, 9, 8, 9, 0]\n"
     ]
    }
   ],
   "source": [
    "total=[]\n",
    "n = int(input(\"enter the range \"))\n",
    "for i in range(n):\n",
    "    num =int(input(\"enter the number  \"))\n",
    "    total.append(num)\n",
    "print(total)"
   ]
  },
  {
   "cell_type": "code",
   "execution_count": 5,
   "id": "4e005577",
   "metadata": {},
   "outputs": [],
   "source": [
    "#Write a Python program to remove all the odd index value from a list and only even index elements should remain"
   ]
  },
  {
   "cell_type": "code",
   "execution_count": 1,
   "id": "c01a6a02",
   "metadata": {},
   "outputs": [
    {
     "name": "stdout",
     "output_type": "stream",
     "text": [
      "\n"
     ]
    }
   ],
   "source": [
    "def keep_even_index_elements(input_list):\n",
    "    return input_list[::2]\n",
    "\n",
    "original_list =[1,2,3,4,5,6,7,8]\n",
    "result_list =\"\"\n",
    "keep_even_index_elements(original_list)\n",
    "print(result_list)"
   ]
  },
  {
   "cell_type": "code",
   "execution_count": 6,
   "id": "b39bf56b",
   "metadata": {},
   "outputs": [
    {
     "name": "stdout",
     "output_type": "stream",
     "text": [
      "enter the range 5\n",
      "enter the number  1\n",
      "enter the number  2\n",
      "enter the number  3\n",
      "enter the number  4\n",
      "enter the number  5\n",
      "[1, 2, 3, 4, 5]\n",
      "1\n",
      "3\n",
      "5\n"
     ]
    }
   ],
   "source": [
    "total=[]\n",
    "n = int(input(\"enter the range \"))\n",
    "for i in range(n):\n",
    "    num =int(input(\"enter the number  \"))\n",
    "    total.append(num)\n",
    "print(total)\n",
    "for i in total:\n",
    "    if(total.index(i)%2==0):\n",
    "        print(i)"
   ]
  },
  {
   "cell_type": "code",
   "execution_count": 7,
   "id": "6699d521",
   "metadata": {},
   "outputs": [],
   "source": [
    "#Write a Python program to sum and multiply all the items in a list."
   ]
  },
  {
   "cell_type": "code",
   "execution_count": null,
   "id": "c46d498c",
   "metadata": {},
   "outputs": [],
   "source": []
  },
  {
   "cell_type": "code",
   "execution_count": 9,
   "id": "7c6917ea",
   "metadata": {},
   "outputs": [],
   "source": [
    "#. Write a Python program to get the maximum and minimum numbers from a list.\n"
   ]
  },
  {
   "cell_type": "code",
   "execution_count": 11,
   "id": "44489e96",
   "metadata": {},
   "outputs": [
    {
     "name": "stdout",
     "output_type": "stream",
     "text": [
      "183\n",
      "7\n"
     ]
    }
   ],
   "source": [
    "list=[7,13,25,77,183]\n",
    "print(max(list))\n",
    "print(min(list))"
   ]
  },
  {
   "cell_type": "code",
   "execution_count": 12,
   "id": "e3cc484c",
   "metadata": {},
   "outputs": [],
   "source": [
    "#write a python program to print a specified list after removing the 0th, 4th and 5th elements."
   ]
  },
  {
   "cell_type": "code",
   "execution_count": 13,
   "id": "8e865ebb",
   "metadata": {},
   "outputs": [
    {
     "name": "stdout",
     "output_type": "stream",
     "text": [
      "['janakiram', 'gopi', 'krishna', 'jyothi', 'ebhi', 'basheer', 'nagendra', 'venky']\n",
      "['janakiram', 'ebhi', 'basheer']\n"
     ]
    }
   ],
   "source": [
    "l=[\"janakiram\",\"gopi\",\"krishna\",\"jyothi\",\"ebhi\",\"basheer\",\"nagendra\",\"venky\"]\n",
    "length=len(l)\n",
    "n=[]\n",
    "for i in range(length):\n",
    "    if i==0 or i==4 or i==5:\n",
    "        n.append(l[i])\n",
    "print(l)\n",
    "print(n)"
   ]
  },
  {
   "cell_type": "code",
   "execution_count": 14,
   "id": "78732116",
   "metadata": {},
   "outputs": [],
   "source": [
    "#rite a Python program to convert a list of characters into a string\n"
   ]
  },
  {
   "cell_type": "code",
   "execution_count": 15,
   "id": "7e74ef59",
   "metadata": {},
   "outputs": [],
   "source": [
    "x=[\"janakiramudu\"]"
   ]
  },
  {
   "cell_type": "code",
   "execution_count": 16,
   "id": "408bd924",
   "metadata": {},
   "outputs": [
    {
     "data": {
      "text/plain": [
       "list"
      ]
     },
     "execution_count": 16,
     "metadata": {},
     "output_type": "execute_result"
    }
   ],
   "source": [
    "type(x)"
   ]
  },
  {
   "cell_type": "code",
   "execution_count": 17,
   "id": "1b85e34c",
   "metadata": {},
   "outputs": [],
   "source": [
    "s=str(x)"
   ]
  },
  {
   "cell_type": "code",
   "execution_count": 18,
   "id": "ca167425",
   "metadata": {},
   "outputs": [
    {
     "data": {
      "text/plain": [
       "str"
      ]
     },
     "execution_count": 18,
     "metadata": {},
     "output_type": "execute_result"
    }
   ],
   "source": [
    "type(s)"
   ]
  },
  {
   "cell_type": "code",
   "execution_count": 19,
   "id": "2de295a6",
   "metadata": {},
   "outputs": [],
   "source": [
    "#Write a Python program to compute average of given lists."
   ]
  },
  {
   "cell_type": "code",
   "execution_count": null,
   "id": "14011e58",
   "metadata": {},
   "outputs": [],
   "source": []
  },
  {
   "cell_type": "code",
   "execution_count": 21,
   "id": "b9f1dcc7",
   "metadata": {},
   "outputs": [],
   "source": [
    "#write a python program to count integer in a given mixed list"
   ]
  },
  {
   "cell_type": "code",
   "execution_count": 23,
   "id": "e64ba40f",
   "metadata": {},
   "outputs": [
    {
     "name": "stdout",
     "output_type": "stream",
     "text": [
      "4\n"
     ]
    }
   ],
   "source": [
    "list=[\"ram\",1,44,67,\"janaki\",77,1231.1,2+1j,\"soo\"]\n",
    "count=0\n",
    "for i in list:\n",
    "    if type(i)==int:\n",
    "        count+=1\n",
    "print(count)"
   ]
  },
  {
   "cell_type": "code",
   "execution_count": 24,
   "id": "e8b42c08",
   "metadata": {},
   "outputs": [],
   "source": [
    "#write a python program to reverse the list"
   ]
  },
  {
   "cell_type": "code",
   "execution_count": 25,
   "id": "0c71debb",
   "metadata": {},
   "outputs": [],
   "source": [
    "list=[\"margorp nohtyp\",11.3,\"noisrev\"]\n",
    "list.reverse()"
   ]
  },
  {
   "cell_type": "code",
   "execution_count": 26,
   "id": "ed9f6efd",
   "metadata": {},
   "outputs": [
    {
     "data": {
      "text/plain": [
       "['noisrev', 11.3, 'margorp nohtyp']"
      ]
     },
     "execution_count": 26,
     "metadata": {},
     "output_type": "execute_result"
    }
   ],
   "source": [
    "list"
   ]
  },
  {
   "cell_type": "code",
   "execution_count": 39,
   "id": "5df5eacf",
   "metadata": {},
   "outputs": [],
   "source": [
    "x=\"abcdefghi\""
   ]
  },
  {
   "cell_type": "code",
   "execution_count": 40,
   "id": "2f3d6bfc",
   "metadata": {},
   "outputs": [
    {
     "data": {
      "text/plain": [
       "'ihgfedcba'"
      ]
     },
     "execution_count": 40,
     "metadata": {},
     "output_type": "execute_result"
    }
   ],
   "source": [
    "x[::-1]"
   ]
  },
  {
   "cell_type": "code",
   "execution_count": 44,
   "id": "b843c22a",
   "metadata": {},
   "outputs": [],
   "source": [
    "# write a python program convert a given string to a tuple"
   ]
  },
  {
   "cell_type": "code",
   "execution_count": 46,
   "id": "5b9306d8",
   "metadata": {},
   "outputs": [
    {
     "name": "stdout",
     "output_type": "stream",
     "text": [
      "enter your string  :janaki\n",
      "('j', 'a', 'n', 'a', 'k', 'i')\n"
     ]
    }
   ],
   "source": [
    "s=input(\"enter your string  :\")\n",
    "t=tuple(s)\n",
    "print(t)"
   ]
  },
  {
   "cell_type": "code",
   "execution_count": null,
   "id": "a02de0a3",
   "metadata": {},
   "outputs": [],
   "source": []
  }
 ],
 "metadata": {
  "kernelspec": {
   "display_name": "Python 3 (ipykernel)",
   "language": "python",
   "name": "python3"
  },
  "language_info": {
   "codemirror_mode": {
    "name": "ipython",
    "version": 3
   },
   "file_extension": ".py",
   "mimetype": "text/x-python",
   "name": "python",
   "nbconvert_exporter": "python",
   "pygments_lexer": "ipython3",
   "version": "3.11.3"
  }
 },
 "nbformat": 4,
 "nbformat_minor": 5
}
