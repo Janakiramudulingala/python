{
 "cells": [
  {
   "cell_type": "code",
   "execution_count": 33,
   "id": "547a307f",
   "metadata": {},
   "outputs": [],
   "source": [
    "#Write a Python program that prints all the numbers from 0 to 6 except 3 and 6"
   ]
  },
  {
   "cell_type": "code",
   "execution_count": 32,
   "id": "441349ac",
   "metadata": {},
   "outputs": [
    {
     "name": "stdout",
     "output_type": "stream",
     "text": [
      "0 1 2 4 5 "
     ]
    }
   ],
   "source": [
    "for x in range(0,6):\n",
    "    if x==3 or x==6:\n",
    "        continue\n",
    "    print(x,end=' ')"
   ]
  },
  {
   "cell_type": "code",
   "execution_count": 31,
   "id": "7e643ac3",
   "metadata": {},
   "outputs": [
    {
     "data": {
      "text/plain": [
       "[1, 2, 4, 5]"
      ]
     },
     "execution_count": 31,
     "metadata": {},
     "output_type": "execute_result"
    }
   ],
   "source": [
    "list(filter(lambda x:x%3!=0,[0,1,2,3,4,5,6]))"
   ]
  },
  {
   "cell_type": "code",
   "execution_count": 8,
   "id": "f9e34500",
   "metadata": {},
   "outputs": [],
   "source": [
    "# WRITE A PROGRAM TO ACCEPT A NUMBER FROM A USER AND CALCULATE THE SUM OF ALL NUMBERS FEOM 1 TO A GIVEN NUMBER"
   ]
  },
  {
   "cell_type": "code",
   "execution_count": 2,
   "id": "c34c30fa",
   "metadata": {},
   "outputs": [
    {
     "name": "stdout",
     "output_type": "stream",
     "text": [
      "enter a number :  7\n",
      "28\n"
     ]
    }
   ],
   "source": [
    "input_number=int(input(\"enter a number :  \"))\n",
    "sum_of_numbers = 0\n",
    "for x in range(1,input_number+1):\n",
    "    sum_of_numbers=sum_of_numbers+x\n",
    "print (sum_of_numbers)"
   ]
  },
  {
   "cell_type": "code",
   "execution_count": 3,
   "id": "a9993a45",
   "metadata": {},
   "outputs": [],
   "source": [
    "#write a python program to print multiplication table of a given number(input)"
   ]
  },
  {
   "cell_type": "code",
   "execution_count": 6,
   "id": "6e01783c",
   "metadata": {},
   "outputs": [
    {
     "name": "stdout",
     "output_type": "stream",
     "text": [
      "enter the number17\n",
      "multiplication of table of 17\n",
      "17 x 1 = 17\n",
      "17 x 2 = 34\n",
      "17 x 3 = 51\n",
      "17 x 4 = 68\n",
      "17 x 5 = 85\n",
      "17 x 6 = 102\n",
      "17 x 7 = 119\n",
      "17 x 8 = 136\n",
      "17 x 9 = 153\n",
      "17 x 10 = 170\n"
     ]
    }
   ],
   "source": [
    "num=int(input(\"enter the number\"))\n",
    "print(\"multiplication of table of\",num)\n",
    "for x in range(1,11):\n",
    "    print(num,\"x\",x,   '=',num*x)"
   ]
  },
  {
   "cell_type": "code",
   "execution_count": 7,
   "id": "e878f741",
   "metadata": {},
   "outputs": [],
   "source": [
    "# write a program to count the total number of digits in number using a while loop"
   ]
  },
  {
   "cell_type": "code",
   "execution_count": 3,
   "id": "2a10e6b6",
   "metadata": {},
   "outputs": [
    {
     "name": "stdout",
     "output_type": "stream",
     "text": [
      "enter a number  : 1234567890987654321\n",
      "total number of digits  :  19\n"
     ]
    }
   ],
   "source": [
    "def count_digits(number):\n",
    "    count=0\n",
    "    while number>0:\n",
    "        number//=10\n",
    "        count+=1\n",
    "    return count\n",
    "num=int(input(\"enter a number  : \"))\n",
    "digit_count=count_digits(num)\n",
    "print(\"total number of digits  : \",digit_count)"
   ]
  },
  {
   "cell_type": "code",
   "execution_count": 8,
   "id": "e23635d2",
   "metadata": {},
   "outputs": [],
   "source": [
    "# Write a Python program to guess a number between 1 to\n",
    "#Example:\n",
    "#User is prompted to enter a guess. If the user guesses wrong then the prompt appears again until the guess is correct, on successful guess, user will get a \"Well guessed!\" message, and the program wii exit."
   ]
  },
  {
   "cell_type": "code",
   "execution_count": null,
   "id": "eada29b2",
   "metadata": {},
   "outputs": [],
   "source": []
  },
  {
   "cell_type": "code",
   "execution_count": 2,
   "id": "ba94a273",
   "metadata": {},
   "outputs": [],
   "source": [
    "#Write a Python program which iterates the integers from 1to 60. For multiples of three print \"Fizz\" instead of thnumber and for the multiples of five print \"Buzz\". For numbers which are multiples of both three and five print\"FizzBuzz\"."
   ]
  },
  {
   "cell_type": "code",
   "execution_count": 6,
   "id": "4fd928c7",
   "metadata": {},
   "outputs": [
    {
     "name": "stdout",
     "output_type": "stream",
     "text": [
      "1\n",
      "2\n",
      "Fizz\n",
      "4\n",
      "Buzz\n",
      "Fizz\n",
      "7\n",
      "8\n",
      "Fizz\n",
      "Buzz\n",
      "11\n",
      "Fizz\n",
      "13\n",
      "14\n",
      "Fizz Buzz\n",
      "16\n",
      "17\n",
      "Fizz\n",
      "19\n",
      "Buzz\n",
      "Fizz\n",
      "22\n",
      "23\n",
      "Fizz\n",
      "Buzz\n",
      "26\n",
      "Fizz\n",
      "28\n",
      "29\n",
      "Fizz Buzz\n",
      "31\n",
      "32\n",
      "Fizz\n",
      "34\n",
      "Buzz\n",
      "Fizz\n",
      "37\n",
      "38\n",
      "Fizz\n",
      "Buzz\n",
      "41\n",
      "Fizz\n",
      "43\n",
      "44\n",
      "Fizz Buzz\n",
      "46\n",
      "47\n",
      "Fizz\n",
      "49\n",
      "Buzz\n",
      "Fizz\n",
      "52\n",
      "53\n",
      "Fizz\n",
      "Buzz\n",
      "56\n",
      "Fizz\n",
      "58\n",
      "59\n",
      "Fizz Buzz\n"
     ]
    }
   ],
   "source": [
    "for num in range (1,61):\n",
    "    if num % 3==0 and num % 5==0:\n",
    "        print (\"Fizz Buzz\")\n",
    "    elif num % 3==0:\n",
    "        print(\"Fizz\")\n",
    "    elif num %5==0:\n",
    "        print(\"Buzz\")\n",
    "    else:\n",
    "        print(num)"
   ]
  },
  {
   "cell_type": "code",
   "execution_count": 20,
   "id": "bbcabd9b",
   "metadata": {},
   "outputs": [],
   "source": [
    "#write a python program that accepts a string and calculate the number of digits and letters"
   ]
  },
  {
   "cell_type": "code",
   "execution_count": 21,
   "id": "b2af4aa5",
   "metadata": {},
   "outputs": [
    {
     "name": "stdout",
     "output_type": "stream",
     "text": [
      "enter the string: janakiramudu 777\n",
      "digits:  3\n",
      "letters:  13\n"
     ]
    }
   ],
   "source": [
    "string=input(\"enter the string: \")\n",
    "l=len(string)\n",
    "digits=0\n",
    "letters=0\n",
    "for i in range(l):\n",
    "    if(string[i].isdigit()):\n",
    "        digits+=1\n",
    "    else:\n",
    "        letters+=1\n",
    "print(\"digits: \",digits)\n",
    "print(\"letters: \",letters)"
   ]
  },
  {
   "cell_type": "code",
   "execution_count": 22,
   "id": "e39093c1",
   "metadata": {},
   "outputs": [],
   "source": [
    "#Write a Python program to check the validity of password input by users"
   ]
  },
  {
   "cell_type": "code",
   "execution_count": null,
   "id": "0dc15374",
   "metadata": {},
   "outputs": [],
   "source": []
  },
  {
   "cell_type": "code",
   "execution_count": 23,
   "id": "fbb69ee5",
   "metadata": {},
   "outputs": [],
   "source": [
    "#Write a program in Python to reverse a word by using while loop"
   ]
  },
  {
   "cell_type": "code",
   "execution_count": 24,
   "id": "bab091f9",
   "metadata": {},
   "outputs": [
    {
     "name": "stdout",
     "output_type": "stream",
     "text": [
      "enter a word :janakiramudu\n",
      "reversed word: udumarikanaj\n"
     ]
    }
   ],
   "source": [
    "def reverse_word(word):\n",
    "    reverse_word=\"\"\n",
    "    index = len(word)-1\n",
    "    \n",
    "    while index>=0:\n",
    "        reverse_word+=word[index]\n",
    "        index-=1\n",
    "        \n",
    "    return reverse_word\n",
    "\n",
    "input_word=input(\"enter a word :\")\n",
    "reverse_result =reverse_word(\"janakiramudu\")\n",
    "print(\"reversed word:\",reverse_result)"
   ]
  },
  {
   "cell_type": "code",
   "execution_count": 25,
   "id": "5c5a332a",
   "metadata": {},
   "outputs": [
    {
     "name": "stdout",
     "output_type": "stream",
     "text": [
      "the reverse of x is YAD ECNEDNEPEDNI YPPAH \n"
     ]
    }
   ],
   "source": [
    "string=\" HAPPY INDEPENDENCE DAY\"\n",
    "i=string\n",
    "reverse=\"\"\n",
    "while(len(i)>0):\n",
    "    if(len(i)>0):\n",
    "        a=i[-1]\n",
    "        i=i[:-1]\n",
    "        reverse +=a\n",
    "print(\"the reverse of x is\", reverse)"
   ]
  },
  {
   "cell_type": "code",
   "execution_count": 26,
   "id": "387066c0",
   "metadata": {},
   "outputs": [],
   "source": [
    "#Write a program which takes 10 integers as input using loop and print their average value on the screen"
   ]
  },
  {
   "cell_type": "code",
   "execution_count": 27,
   "id": "c064b62a",
   "metadata": {},
   "outputs": [
    {
     "name": "stdout",
     "output_type": "stream",
     "text": [
      "enter the range: 9\n",
      "enter your number  :8\n",
      "enter your number  :7\n",
      "enter your number  :8\n",
      "enter your number  :7\n",
      "enter your number  :8\n",
      "enter your number  :7\n",
      "enter your number  :8\n",
      "enter your number  :7\n",
      "enter your number  :8\n",
      "68\n",
      "7.555555555555555\n"
     ]
    }
   ],
   "source": [
    "n=int(input(\"enter the range: \"))\n",
    "sum=0\n",
    "avg=0\n",
    "for i in range(n):\n",
    "    num=int(input(\"enter your number  :\"))\n",
    "    sum+=num\n",
    "print(sum)\n",
    "avg=(sum/n)\n",
    "print(avg)"
   ]
  },
  {
   "cell_type": "code",
   "execution_count": 28,
   "id": "3e8e98f7",
   "metadata": {},
   "outputs": [],
   "source": [
    "#Write a program which takes integer inputs from user until he/she presses “q” (Ask to press q to quit after every integer input). Print average and product of all numbers."
   ]
  },
  {
   "cell_type": "code",
   "execution_count": null,
   "id": "9e93b828",
   "metadata": {},
   "outputs": [],
   "source": []
  },
  {
   "cell_type": "code",
   "execution_count": 29,
   "id": "21c7d21b",
   "metadata": {},
   "outputs": [],
   "source": [
    "#Write a Python program which will remove all digits or any other characters from the string except alphabets"
   ]
  },
  {
   "cell_type": "code",
   "execution_count": 8,
   "id": "8b60350e",
   "metadata": {},
   "outputs": [
    {
     "name": "stdout",
     "output_type": "stream",
     "text": [
      "enter your string: janaki77#$@%!^.,.\n",
      "janaki\n"
     ]
    }
   ],
   "source": [
    "string=input(\"enter your string: \")\n",
    "new_string=\"\"\n",
    "for i in string:\n",
    "    if(i.isalpha()):\n",
    "        new_string+=i\n",
    "print(new_string)"
   ]
  },
  {
   "cell_type": "code",
   "execution_count": 4,
   "id": "3913483c",
   "metadata": {},
   "outputs": [],
   "source": [
    "#Write a python program to find the sum of all even numbers from 0 to 10"
   ]
  },
  {
   "cell_type": "code",
   "execution_count": 5,
   "id": "bb0d95d9",
   "metadata": {},
   "outputs": [
    {
     "name": "stdout",
     "output_type": "stream",
     "text": [
      "The sum of numbers from 0 to 10 is 30\n"
     ]
    }
   ],
   "source": [
    "even_list = []\n",
    "for num in range(0,11):\n",
    "    if num%2 == 0:\n",
    "        even_list.append(num)\n",
    "print('The sum of numbers from 0 to 10 is {}'.format(sum(even_list)))"
   ]
  },
  {
   "cell_type": "code",
   "execution_count": 6,
   "id": "7ca207b9",
   "metadata": {},
   "outputs": [],
   "source": [
    "#Write a python program which will accept a digit and print All the numbers before it till 0.\n"
   ]
  },
  {
   "cell_type": "code",
   "execution_count": 7,
   "id": "20655b85",
   "metadata": {},
   "outputs": [
    {
     "name": "stdout",
     "output_type": "stream",
     "text": [
      "Enter a digit: 7\n",
      "6\n",
      "5\n",
      "4\n",
      "3\n",
      "2\n",
      "1\n",
      "0\n"
     ]
    }
   ],
   "source": [
    "digit = int(input(\"Enter a digit: \"))\n",
    "for num in range(digit-1, -1, -1):\n",
    "    print(num)"
   ]
  },
  {
   "cell_type": "code",
   "execution_count": 9,
   "id": "c028e294",
   "metadata": {},
   "outputs": [],
   "source": [
    "#create a dynamic calculator which will run continually till you press \"c\"."
   ]
  },
  {
   "cell_type": "code",
   "execution_count": 10,
   "id": "9ac84fb3",
   "metadata": {},
   "outputs": [
    {
     "name": "stdout",
     "output_type": "stream",
     "text": [
      "Enter first  number : 7\n",
      "Enter an operator : + - * / % // +\n",
      "Enter second number : 7\n",
      "7+7=14\n",
      "Enter first  number : 7\n",
      "Enter an operator : + - * / % // -\n",
      "Enter second number : 7\n",
      "7-7=0\n",
      "Enter first  number : 7\n",
      "Enter an operator : + - * / % // *\n",
      "Enter second number : 7\n",
      "7*7=49\n",
      "Enter first  number : 7\n",
      "Enter an operator : + - * / % // /\n",
      "Enter second number : 7\n",
      "7/7=1.0\n",
      "Enter first  number : 7\n",
      "Enter an operator : + - * / % // c\n",
      "Enter second number : 8\n",
      "Quitting calculator!\n"
     ]
    }
   ],
   "source": [
    "while True:\n",
    "    num1 = int(input('Enter first  number : '))\n",
    "    operator = input('Enter an operator : + - * / % // ')\n",
    "    num2 = int(input('Enter second number : '))\n",
    "    if operator == 'c':\n",
    "        print('Quitting calculator!')\n",
    "        break\n",
    "    else:\n",
    "        pass\n",
    "    if operator == '+':\n",
    "        print(\"{}+{}={}\".format(num1,num2,num1+num2))\n",
    "    elif operator == '-':\n",
    "        print(\"{}-{}={}\".format(num1,num2,num1-num2))\n",
    "    elif operator == '*':\n",
    "        print(\"{}*{}={}\".format(num1,num2,num1*num2))\n",
    "    elif operator == '/':\n",
    "        print(\"{}/{}={}\".format(num1,num2,num1/num2))\n",
    "    elif operator == '%':\n",
    "        print(\"{}%{}={}\".format(num1,num2,num1%num2))\n",
    "    else:\n",
    "        print(\"{}//{}={}\".format(num1,num2,num1//num2))"
   ]
  },
  {
   "cell_type": "code",
   "execution_count": null,
   "id": "130cb107",
   "metadata": {},
   "outputs": [],
   "source": []
  }
 ],
 "metadata": {
  "kernelspec": {
   "display_name": "Python 3 (ipykernel)",
   "language": "python",
   "name": "python3"
  },
  "language_info": {
   "codemirror_mode": {
    "name": "ipython",
    "version": 3
   },
   "file_extension": ".py",
   "mimetype": "text/x-python",
   "name": "python",
   "nbconvert_exporter": "python",
   "pygments_lexer": "ipython3",
   "version": "3.11.3"
  }
 },
 "nbformat": 4,
 "nbformat_minor": 5
}
