{
  "cells": [
    {
      "cell_type": "markdown",
      "metadata": {
        "id": "view-in-github",
        "colab_type": "text"
      },
      "source": [
        "<a href=\"https://colab.research.google.com/github/Janakiramudulingala/python/blob/main/Assignment%202023-08-01.ipynb\" target=\"_parent\"><img src=\"https://colab.research.google.com/assets/colab-badge.svg\" alt=\"Open In Colab\"/></a>"
      ]
    },
    {
      "cell_type": "code",
      "source": [
        "var=\"JANAKIRAMUDU\""
      ],
      "metadata": {
        "id": "QziM_wWy2ZII"
      },
      "execution_count": 71,
      "outputs": []
    },
    {
      "cell_type": "code",
      "source": [
        "var.lower()"
      ],
      "metadata": {
        "id": "SjeRoZW52dEf",
        "outputId": "8f7bb1d6-deda-4233-ada4-8e04d228b22c",
        "colab": {
          "base_uri": "https://localhost:8080/",
          "height": 36
        }
      },
      "execution_count": 72,
      "outputs": [
        {
          "output_type": "execute_result",
          "data": {
            "text/plain": [
              "'janakiramudu'"
            ],
            "application/vnd.google.colaboratory.intrinsic+json": {
              "type": "string"
            }
          },
          "metadata": {},
          "execution_count": 72
        }
      ]
    },
    {
      "cell_type": "code",
      "source": [
        "#question no-02"
      ],
      "metadata": {
        "id": "uwv9IbpC2flb"
      },
      "execution_count": 73,
      "outputs": []
    },
    {
      "cell_type": "code",
      "source": [
        "data=\"PYTHON\""
      ],
      "metadata": {
        "id": "cfCLz9lZ2tzU"
      },
      "execution_count": 79,
      "outputs": []
    },
    {
      "cell_type": "code",
      "source": [
        "data[0].upper()+data[1].lower()+data[2].upper()+data[3].lower()+data[4].upper()+data[5].lower()"
      ],
      "metadata": {
        "id": "EkQM9Vsv3YwC",
        "outputId": "9e7bf55f-55fb-4a86-cbbd-7f6f4f664336",
        "colab": {
          "base_uri": "https://localhost:8080/",
          "height": 36
        }
      },
      "execution_count": 85,
      "outputs": [
        {
          "output_type": "execute_result",
          "data": {
            "text/plain": [
              "'PyThOn'"
            ],
            "application/vnd.google.colaboratory.intrinsic+json": {
              "type": "string"
            }
          },
          "metadata": {},
          "execution_count": 85
        }
      ]
    },
    {
      "cell_type": "code",
      "source": [
        "#question no-03"
      ],
      "metadata": {
        "id": "lYiV4TWZ4Me8"
      },
      "execution_count": 78,
      "outputs": []
    },
    {
      "cell_type": "code",
      "source": [
        "data=\"PYTHON\""
      ],
      "metadata": {
        "id": "dJxyyo4G4VMZ"
      },
      "execution_count": 81,
      "outputs": []
    },
    {
      "cell_type": "code",
      "source": [
        "data[0].lower()+data[1].upper()+data[2].lower()+data[3].upper()+data[4].lower()+data[5].upper()"
      ],
      "metadata": {
        "id": "1pq1NP-z4jBm",
        "outputId": "023cf198-47e0-4d81-9cd5-4a187d09d091",
        "colab": {
          "base_uri": "https://localhost:8080/",
          "height": 36
        }
      },
      "execution_count": 82,
      "outputs": [
        {
          "output_type": "execute_result",
          "data": {
            "text/plain": [
              "'pYtHoN'"
            ],
            "application/vnd.google.colaboratory.intrinsic+json": {
              "type": "string"
            }
          },
          "metadata": {},
          "execution_count": 82
        }
      ]
    },
    {
      "cell_type": "code",
      "source": [
        "#question no-04"
      ],
      "metadata": {
        "id": "udfTnEAT5CT0"
      },
      "execution_count": 83,
      "outputs": []
    },
    {
      "cell_type": "code",
      "source": [
        "data=\"PYTHON\""
      ],
      "metadata": {
        "id": "4NMhlxhY5JDk"
      },
      "execution_count": 84,
      "outputs": []
    },
    {
      "cell_type": "code",
      "source": [
        "data[0].lower()+data[1].upper()+data[2].lower()+data[3].upper()+data[4].lower()+data[5].upper()"
      ],
      "metadata": {
        "id": "xNgABJv_5OtY",
        "outputId": "2ec02511-e9fd-49d2-8664-eef45d09dbb4",
        "colab": {
          "base_uri": "https://localhost:8080/",
          "height": 36
        }
      },
      "execution_count": 87,
      "outputs": [
        {
          "output_type": "execute_result",
          "data": {
            "text/plain": [
              "'pYtHoN'"
            ],
            "application/vnd.google.colaboratory.intrinsic+json": {
              "type": "string"
            }
          },
          "metadata": {},
          "execution_count": 87
        }
      ]
    },
    {
      "cell_type": "code",
      "source": [
        "#question no-05"
      ],
      "metadata": {
        "id": "ywy5CB6u5sea"
      },
      "execution_count": 88,
      "outputs": []
    },
    {
      "cell_type": "code",
      "source": [
        "data=\"PYTHON\""
      ],
      "metadata": {
        "id": "2z_tvn6U5-uA"
      },
      "execution_count": 89,
      "outputs": []
    },
    {
      "cell_type": "code",
      "source": [
        "data[0].upper()+data[1].lower()+data[2].upper()+data[3].lower()+data[4].upper()+data[5].lower()"
      ],
      "metadata": {
        "id": "s1UyS-Fg6F3D",
        "outputId": "681de6b3-662b-4ea9-ec70-253fa4297325",
        "colab": {
          "base_uri": "https://localhost:8080/",
          "height": 36
        }
      },
      "execution_count": 90,
      "outputs": [
        {
          "output_type": "execute_result",
          "data": {
            "text/plain": [
              "'PyThOn'"
            ],
            "application/vnd.google.colaboratory.intrinsic+json": {
              "type": "string"
            }
          },
          "metadata": {},
          "execution_count": 90
        }
      ]
    },
    {
      "cell_type": "code",
      "source": [
        "#question no-06"
      ],
      "metadata": {
        "id": "Oa-1mXuD6Ohd"
      },
      "execution_count": 126,
      "outputs": []
    },
    {
      "cell_type": "code",
      "source": [
        "name=input(\"enter your name\")\n",
        "gender=input(\"enter your gender\")\n",
        "age=int(input(\"enter your age\"))\n",
        "ph_no=int(input(\"enter your ph_no\"))\n",
        "fathers_name=input(\"enter your fathers_name\")\n",
        "mothers_name=input(\"enter your mothers_name\")\n",
        "print\n",
        "\"my name is {} my gender is {} my age is {} my ph_no is {} my fathers_name is {} my mothers_name is {}\".format(name,gender,age,ph_no,fathers_name,mothers_name)"
      ],
      "metadata": {
        "id": "IyWE-RWIKoN_",
        "outputId": "b9624a59-81ab-4195-d798-7a9124bc6f31",
        "colab": {
          "base_uri": "https://localhost:8080/",
          "height": 140
        }
      },
      "execution_count": 145,
      "outputs": [
        {
          "name": "stdout",
          "output_type": "stream",
          "text": [
            "enter your nameram\n",
            "enter your gendermale\n",
            "enter your age23\n",
            "enter your ph_no9884047388\n",
            "enter your fathers_namepothuluri\n",
            "enter your mothers_namepadmavathi\n"
          ]
        },
        {
          "output_type": "execute_result",
          "data": {
            "text/plain": [
              "'my name is ram my gender is male my age is 23 my ph_no is 9884047388 my fathers_name is pothuluri my mothers_name is padmavathi'"
            ],
            "application/vnd.google.colaboratory.intrinsic+json": {
              "type": "string"
            }
          },
          "metadata": {},
          "execution_count": 145
        }
      ]
    },
    {
      "cell_type": "code",
      "source": [
        "#question no -07"
      ],
      "metadata": {
        "id": "mdPaSeHqPBVT"
      },
      "execution_count": 146,
      "outputs": []
    },
    {
      "cell_type": "code",
      "source": [
        "var=\"r@m@po@th@in@n@@ni\""
      ],
      "metadata": {
        "id": "Y3VgeaUBQlht"
      },
      "execution_count": 147,
      "outputs": []
    },
    {
      "cell_type": "code",
      "source": [
        "var.count(\"@\")"
      ],
      "metadata": {
        "id": "BDwS0KWHQtv3",
        "outputId": "dc78062d-fb87-4675-fb67-33bb1fcad2e1",
        "colab": {
          "base_uri": "https://localhost:8080/"
        }
      },
      "execution_count": 148,
      "outputs": [
        {
          "output_type": "execute_result",
          "data": {
            "text/plain": [
              "7"
            ]
          },
          "metadata": {},
          "execution_count": 148
        }
      ]
    },
    {
      "cell_type": "code",
      "source": [
        "#question no_08"
      ],
      "metadata": {
        "id": "qJteTPYjQyEi"
      },
      "execution_count": 149,
      "outputs": []
    },
    {
      "cell_type": "code",
      "source": [
        "abc=\"name1.@gmail.com,name2.@gmail.com,name3.@gmail.com\""
      ],
      "metadata": {
        "id": "-TSsRPr8Q91J"
      },
      "execution_count": 150,
      "outputs": []
    },
    {
      "cell_type": "code",
      "source": [
        "abc.replace(\"name1.@gmail.com\",\"name1\").replace(\"name2.@gmail.com\",\"name2\").replace(\"name3.@gmail.com\",\"name3\")"
      ],
      "metadata": {
        "id": "amq4_4IaRbMY",
        "outputId": "424ae38c-360e-44c0-daf9-cdfba0e8ae95",
        "colab": {
          "base_uri": "https://localhost:8080/",
          "height": 36
        }
      },
      "execution_count": 151,
      "outputs": [
        {
          "output_type": "execute_result",
          "data": {
            "text/plain": [
              "'name1,name2,name3'"
            ],
            "application/vnd.google.colaboratory.intrinsic+json": {
              "type": "string"
            }
          },
          "metadata": {},
          "execution_count": 151
        }
      ]
    },
    {
      "cell_type": "code",
      "source": [
        "#question no-09"
      ],
      "metadata": {
        "id": "npnfnGi5SGAZ"
      },
      "execution_count": 152,
      "outputs": []
    },
    {
      "cell_type": "code",
      "source": [
        "x=\"mynameisan\""
      ],
      "metadata": {
        "id": "FQTHOfmCSQCQ"
      },
      "execution_count": 153,
      "outputs": []
    },
    {
      "cell_type": "code",
      "source": [
        "x[4:7]"
      ],
      "metadata": {
        "id": "YW4R4H1JSZ71",
        "outputId": "a0e39201-9168-42f9-f2f0-3a98a8ecd42e",
        "colab": {
          "base_uri": "https://localhost:8080/",
          "height": 36
        }
      },
      "execution_count": 156,
      "outputs": [
        {
          "output_type": "execute_result",
          "data": {
            "text/plain": [
              "'mei'"
            ],
            "application/vnd.google.colaboratory.intrinsic+json": {
              "type": "string"
            }
          },
          "metadata": {},
          "execution_count": 156
        }
      ]
    },
    {
      "cell_type": "code",
      "source": [
        "#question no-10"
      ],
      "metadata": {
        "id": "Gj6TqxAXSsxo"
      },
      "execution_count": 157,
      "outputs": []
    },
    {
      "cell_type": "code",
      "source": [
        "x=\"myn\"\n",
        "y=\"sa\"\n",
        "x[0:1]+y[0:2]+x[1:3]"
      ],
      "metadata": {
        "id": "W5OQ1BPvTHag",
        "outputId": "a62f1dc3-c013-4938-8ecd-346ae1da1f21",
        "colab": {
          "base_uri": "https://localhost:8080/",
          "height": 36
        }
      },
      "execution_count": 158,
      "outputs": [
        {
          "output_type": "execute_result",
          "data": {
            "text/plain": [
              "'msayn'"
            ],
            "application/vnd.google.colaboratory.intrinsic+json": {
              "type": "string"
            }
          },
          "metadata": {},
          "execution_count": 158
        }
      ]
    },
    {
      "cell_type": "code",
      "source": [
        "#question no-11"
      ],
      "metadata": {
        "id": "-pKh2o9XTxsD"
      },
      "execution_count": 159,
      "outputs": []
    },
    {
      "cell_type": "code",
      "source": [
        "x=\"abcdefghijklmnopqsrstuvwxyz\"\n",
        "x=x.upper()\n",
        "x.replace(\"A\",\"\").replace(\"E\",\"\").replace(\"I\",\"\").replace(\"O\",\"\").replace(\"U\",\"\")"
      ],
      "metadata": {
        "id": "q5yrddq5T21q",
        "outputId": "4763a568-6015-431e-b815-2688e27ed316",
        "colab": {
          "base_uri": "https://localhost:8080/",
          "height": 36
        }
      },
      "execution_count": 163,
      "outputs": [
        {
          "output_type": "execute_result",
          "data": {
            "text/plain": [
              "'BCDFGHJKLMNPQSRSTVWXYZ'"
            ],
            "application/vnd.google.colaboratory.intrinsic+json": {
              "type": "string"
            }
          },
          "metadata": {},
          "execution_count": 163
        }
      ]
    },
    {
      "cell_type": "code",
      "source": [
        ""
      ],
      "metadata": {
        "id": "4DPPzNxgUKKa"
      },
      "execution_count": null,
      "outputs": []
    }
  ],
  "metadata": {
    "colab": {
      "name": "Welcome To Colaboratory",
      "toc_visible": true,
      "provenance": [],
      "include_colab_link": true
    },
    "kernelspec": {
      "display_name": "Python 3",
      "name": "python3"
    }
  },
  "nbformat": 4,
  "nbformat_minor": 0
}