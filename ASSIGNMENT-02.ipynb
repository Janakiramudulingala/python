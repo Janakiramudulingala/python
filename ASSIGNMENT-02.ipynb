{
 "cells": [
  {
   "cell_type": "code",
   "execution_count": 1,
   "id": "a52a7409",
   "metadata": {},
   "outputs": [],
   "source": [
    "#write a python program that accept to numbers from user and calculate multiplication and division"
   ]
  },
  {
   "cell_type": "code",
   "execution_count": 7,
   "id": "80ecd942",
   "metadata": {},
   "outputs": [
    {
     "name": "stdout",
     "output_type": "stream",
     "text": [
      "enter the number9\n",
      "enter the number7\n",
      "product of two numbers is 9*7=63\n",
      "division of two numbers is 9/7=1.2857142857142858\n"
     ]
    }
   ],
   "source": [
    "x=int(input(\"enter the number\"))\n",
    "y=int(input(\"enter the number\"))\n",
    "a=print(\"product of two numbers is {}*{}={}\".format(x,y,x*y))\n",
    "b=print(\"division of two numbers is {}/{}={}\".format(x,y,x/y))"
   ]
  },
  {
   "cell_type": "code",
   "execution_count": 8,
   "id": "c66b2d98",
   "metadata": {},
   "outputs": [],
   "source": [
    "#write a python program to print the characters from a string that are present in even index"
   ]
  },
  {
   "cell_type": "code",
   "execution_count": 31,
   "id": "9f809744",
   "metadata": {},
   "outputs": [
    {
     "name": "stdout",
     "output_type": "stream",
     "text": [
      "enter your namejanakiram\n",
      "j n k r m "
     ]
    }
   ],
   "source": [
    "string=input('enter your name')\n",
    "\n",
    "for y in range(len(string)):\n",
    "    if y%2 ==0:\n",
    "        print(string[y],end=' ')\n"
   ]
  },
  {
   "cell_type": "markdown",
   "id": "705b7339",
   "metadata": {},
   "source": []
  },
  {
   "cell_type": "code",
   "execution_count": 33,
   "id": "cb55356b",
   "metadata": {},
   "outputs": [
    {
     "name": "stdout",
     "output_type": "stream",
     "text": [
      "enter the name janakiramudu\n",
      "jnkrmd\n"
     ]
    }
   ],
   "source": [
    "name=input(\"enter the name \")\n",
    "even_chars=name[::2]\n",
    "print(even_chars)"
   ]
  },
  {
   "cell_type": "code",
   "execution_count": 34,
   "id": "714476dc",
   "metadata": {},
   "outputs": [],
   "source": [
    "#write a python program to print the characters from a string that are present in odd index"
   ]
  },
  {
   "cell_type": "code",
   "execution_count": 4,
   "id": "4997ce73",
   "metadata": {},
   "outputs": [
    {
     "name": "stdout",
     "output_type": "stream",
     "text": [
      "enter your namejanakiramudu\n",
      "a a i a u u "
     ]
    }
   ],
   "source": [
    "string=input(\"enter your name\")\n",
    "\n",
    "for y in range(len(string)):\n",
    "    if y%2!=0:\n",
    "        print(string[y],end=\" \")"
   ]
  },
  {
   "cell_type": "markdown",
   "id": "df3c3bc8",
   "metadata": {},
   "source": [
    "# write a python program which will print the sum of two numbers if the two numbers are even or it will print the difference of two numbers"
   ]
  },
  {
   "cell_type": "code",
   "execution_count": 16,
   "id": "e3a7e170",
   "metadata": {},
   "outputs": [
    {
     "name": "stdout",
     "output_type": "stream",
     "text": [
      "enter the numer4\n",
      "enter the number6\n",
      "4+6=10\n"
     ]
    }
   ],
   "source": [
    "num1=int(input(\"enter the numer\"))\n",
    "num2=int(input(\"enter the number\"))\n",
    "if num1 and num2%2==0:\n",
    "    print(\"{}+{}={}\".format(num1,num2,num1+num2))\n",
    "\n",
    "else :\n",
    "    print(\"{}-{}={}\".format(num1,num2,num1-num2))"
   ]
  },
  {
   "cell_type": "code",
   "execution_count": null,
   "id": "d6de7a65",
   "metadata": {},
   "outputs": [],
   "source": [
    "#write a python program to convert all even indexed alphabets to upper and odd indexed chars"
   ]
  },
  {
   "cell_type": "code",
   "execution_count": 1,
   "id": "386bd165",
   "metadata": {},
   "outputs": [
    {
     "name": "stdout",
     "output_type": "stream",
     "text": [
      "enter your name janakiramudu\n",
      "J N K R M D "
     ]
    }
   ],
   "source": [
    "name=input('enter your name ')\n",
    "\n",
    "for x in range(len(name)):\n",
    "    if x%2 == 0:\n",
    "      print(name[x].upper(),end=' ')"
   ]
  },
  {
   "cell_type": "code",
   "execution_count": 2,
   "id": "acd39707",
   "metadata": {},
   "outputs": [
    {
     "name": "stdout",
     "output_type": "stream",
     "text": [
      "enter your namejanakiramudu\n"
     ]
    },
    {
     "data": {
      "text/plain": [
       "'JNKRMD'"
      ]
     },
     "execution_count": 2,
     "metadata": {},
     "output_type": "execute_result"
    }
   ],
   "source": [
    "word=input('enter your name')\n",
    "word[::2].upper()"
   ]
  },
  {
   "cell_type": "markdown",
   "id": "cd614b7d",
   "metadata": {},
   "source": [
    "# write a python program which will print true if the input number is divided by 5 or else false"
   ]
  },
  {
   "cell_type": "raw",
   "id": "30c58f29",
   "metadata": {},
   "source": []
  },
  {
   "cell_type": "code",
   "execution_count": 4,
   "id": "2f64aad5",
   "metadata": {},
   "outputs": [
    {
     "name": "stdout",
     "output_type": "stream",
     "text": [
      "enter a number5\n",
      "true\n"
     ]
    }
   ],
   "source": [
    "x=int(input(\"enter a number\"))\n",
    "if x%5==0:\n",
    "     print(\"true\")\n",
    "else:\n",
    "     print(\"false\")"
   ]
  },
  {
   "cell_type": "markdown",
   "id": "97c04b74",
   "metadata": {},
   "source": [
    "# given two integers numbers return their product only if the product is greater than 1000,else return their sum"
   ]
  },
  {
   "cell_type": "code",
   "execution_count": 7,
   "id": "df1f3b8d",
   "metadata": {},
   "outputs": [
    {
     "name": "stdout",
     "output_type": "stream",
     "text": [
      "enter the number20\n",
      "enter the number10\n",
      "20+10=30\n"
     ]
    }
   ],
   "source": [
    " num1=int(input(\"enter the number\"))\n",
    " num2=int(input(\"enter the number\"))\n",
    " if num1*num2>1000:\n",
    "        print(\"{}*{}={}\".format(num1,num2,num1*num2))\n",
    " else:\n",
    "        print(\"{}+{}={}\".format(num1,num2,num1+num2))\n",
    "        \n",
    "         "
   ]
  },
  {
   "cell_type": "markdown",
   "id": "7c120ccf",
   "metadata": {},
   "source": [
    "# given two strings x,y write a program to return a new string made of x and y s first ,middle and last characters ."
   ]
  },
  {
   "cell_type": "code",
   "execution_count": 9,
   "id": "b1a38970",
   "metadata": {},
   "outputs": [
    {
     "name": "stdout",
     "output_type": "stream",
     "text": [
      "enter a stringpytho\n",
      "enter a stringjavas\n",
      "pjtvos\n"
     ]
    }
   ],
   "source": [
    "a=input(\"enter a string\")\n",
    "b=input(\"enter a string\")\n",
    "x=len(a)//2\n",
    "y=len(b)//2\n",
    "print(a[0]+b[0]+a[x]+b[y]+a[-1]+b[-1])"
   ]
  },
  {
   "cell_type": "markdown",
   "id": "5e03b6c3",
   "metadata": {},
   "source": [
    "# write a python program to take three names as input from a user in the single input() function call"
   ]
  },
  {
   "cell_type": "code",
   "execution_count": 13,
   "id": "c1364da1",
   "metadata": {},
   "outputs": [
    {
     "name": "stdout",
     "output_type": "stream",
     "text": [
      "enter the three stringJanaki Ram ABCD\n",
      "name1: Janaki\n",
      "name2: Ram\n",
      "name3: ABCD\n"
     ]
    }
   ],
   "source": [
    "str1,str2,str3 =input(\"enter the three string\").split()\n",
    "print(\"name1:\",str1)\n",
    "print(\"name2:\",str2)\n",
    "print(\"name3:\",str3)"
   ]
  },
  {
   "cell_type": "markdown",
   "id": "1ecfba15",
   "metadata": {},
   "source": [
    "# write a python program to get a string from a given string where all occurences of its first chars have been changed to '@',expect the first char itself"
   ]
  },
  {
   "cell_type": "markdown",
   "id": "71d89075",
   "metadata": {},
   "source": []
  },
  {
   "cell_type": "code",
   "execution_count": 54,
   "id": "2bfb5e7c",
   "metadata": {},
   "outputs": [
    {
     "name": "stdout",
     "output_type": "stream",
     "text": [
      "malayala@\n"
     ]
    }
   ],
   "source": [
    "def change_char(str1):\n",
    "    char=str1[0]\n",
    "    str1=str1.replace(char,\"@\")\n",
    "    str1=char+str1[1:]\n",
    "    \n",
    "    return str1\n",
    "print(change_char(\"malayalam\"))"
   ]
  },
  {
   "cell_type": "markdown",
   "id": "e134bfda",
   "metadata": {},
   "source": [
    "# write a python program to add 'ing' at the end of given string (string length should be equal to or more than 3).if the string already ends with 'ing' then add 'ly'instead.if the string length of the given string is less than 3,leave it unchanged"
   ]
  },
  {
   "cell_type": "code",
   "execution_count": 5,
   "id": "06f4a3b6",
   "metadata": {},
   "outputs": [
    {
     "name": "stdout",
     "output_type": "stream",
     "text": [
      "on\n",
      "playing\n",
      "playingly\n"
     ]
    }
   ],
   "source": [
    "def add_string(str1):\n",
    "    length =len(str1)\n",
    "    \n",
    "    if length>2:\n",
    "        if str1[-3:]==\"ing\":\n",
    "         str1+=\"ly\"\n",
    "        else:\n",
    "            str1+=\"ing\"\n",
    "            \n",
    "    return str1\n",
    "print(add_string(\"on\"))\n",
    "print(add_string(\"play\"))\n",
    "print(add_string(\"playing\"))"
   ]
  },
  {
   "cell_type": "markdown",
   "id": "e075438f",
   "metadata": {},
   "source": [
    "# write a python program that accepts two inputs num1 and num2 print true if one of them is 10 or if their sum is 10 other wise print false"
   ]
  },
  {
   "cell_type": "code",
   "execution_count": 18,
   "id": "0a658f16",
   "metadata": {},
   "outputs": [
    {
     "name": "stdout",
     "output_type": "stream",
     "text": [
      "enter a number : 12\n",
      "enter a number : 2\n",
      "False\n"
     ]
    }
   ],
   "source": [
    "num1=int(input('enter a number : '))\n",
    "num2= int(input('enter a number : ' ))\n",
    "\n",
    "if num1 and num2==10:\n",
    "    print(True)\n",
    "elif num1+num2 == 10:\n",
    "    print(True)\n",
    "else:\n",
    "    print (False)\n"
   ]
  },
  {
   "cell_type": "markdown",
   "id": "3c61848d",
   "metadata": {},
   "source": [
    "# write a python program that  accepts three inputs x,y and z print true if x*y>z otheerwise false"
   ]
  },
  {
   "cell_type": "code",
   "execution_count": 7,
   "id": "dc17740c",
   "metadata": {},
   "outputs": [
    {
     "name": "stdout",
     "output_type": "stream",
     "text": [
      "enter your numbe2\n",
      "enter your number6\n",
      "enter your number11\n",
      "True\n"
     ]
    }
   ],
   "source": [
    " x=int(input('enter your numbe'))\n",
    " y=int(input(\"enter your number\"))\n",
    " z=int(input(\"enter your number\"))\n",
    "if x*y>z:\n",
    "        print(True)\n",
    "else:\n",
    "     print (False)"
   ]
  },
  {
   "cell_type": "markdown",
   "id": "c1a84ffc",
   "metadata": {},
   "source": [
    "# write a python program that accept two string input returns the true depending on whether the total number of characters in the first strip is equal to the total number of characters in the second string"
   ]
  },
  {
   "cell_type": "code",
   "execution_count": 16,
   "id": "fd0d3582",
   "metadata": {},
   "outputs": [
    {
     "name": "stdout",
     "output_type": "stream",
     "text": [
      "enter a string : janakiramudu\n",
      "enter a string : gopi krishna\n",
      "True\n"
     ]
    }
   ],
   "source": [
    "input1=input(\"enter a string : \")\n",
    "input2=input(\"enter a string : \")\n",
    "if len(input1)==len(input2):\n",
    "    print(True)\n",
    "else:\n",
    "    print(False)\n"
   ]
  },
  {
   "cell_type": "markdown",
   "id": "96352764",
   "metadata": {},
   "source": [
    "# write a python program that takes a strip input,we'll say that the front is the first three characters of the string.if the string length is less than three characters,the front is whatever is there.Return a new string,which is three copies of the front"
   ]
  },
  {
   "cell_type": "code",
   "execution_count": 14,
   "id": "75bfea06",
   "metadata": {},
   "outputs": [
    {
     "name": "stdout",
     "output_type": "stream",
     "text": [
      "enter your nameram\n",
      "ramramram\n"
     ]
    }
   ],
   "source": [
    "string=input(\"enter your name\")\n",
    "if len(string)<3:\n",
    "    print(string)\n",
    "else:\n",
    "    print(string[0:3]*3)"
   ]
  },
  {
   "cell_type": "code",
   "execution_count": null,
   "id": "15f87ea1",
   "metadata": {},
   "outputs": [],
   "source": []
  }
 ],
 "metadata": {
  "kernelspec": {
   "display_name": "Python 3 (ipykernel)",
   "language": "python",
   "name": "python3"
  },
  "language_info": {
   "codemirror_mode": {
    "name": "ipython",
    "version": 3
   },
   "file_extension": ".py",
   "mimetype": "text/x-python",
   "name": "python",
   "nbconvert_exporter": "python",
   "pygments_lexer": "ipython3",
   "version": "3.11.3"
  }
 },
 "nbformat": 4,
 "nbformat_minor": 5
}
